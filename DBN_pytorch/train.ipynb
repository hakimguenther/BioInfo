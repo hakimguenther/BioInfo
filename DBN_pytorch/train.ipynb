{
 "cells": [
  {
   "cell_type": "code",
   "execution_count": 1,
   "metadata": {},
   "outputs": [],
   "source": [
    "from DBN import DBN\n",
    "import random\n",
    "import numpy as np\n",
    "import torch\n",
    "from sklearn.model_selection import train_test_split"
   ]
  },
  {
   "cell_type": "code",
   "execution_count": 2,
   "metadata": {},
   "outputs": [],
   "source": [
    "def norm(arr):\n",
    "    arr = arr.astype(np.double)\n",
    "    arr -= arr.min()\n",
    "    arr /= arr.max()\n",
    "    return arr"
   ]
  },
  {
   "cell_type": "code",
   "execution_count": 3,
   "metadata": {},
   "outputs": [],
   "source": [
    "indices = [\"0\", \"1\", \"10\", \"11\", \"12\", \"13\"]\n",
    "data_S = []\n",
    "for index in indices:\n",
    "    data = np.load(f\"../data/data{index}.npy\")\n",
    "    data_S.append(data)"
   ]
  },
  {
   "cell_type": "code",
   "execution_count": 4,
   "metadata": {},
   "outputs": [],
   "source": [
    "target_width = 259\n",
    "target_height = 259\n",
    "cropped_data = []\n",
    "for data in data_S:\n",
    "    \n",
    "    current_height, current_width, _ = data.shape\n",
    "\n",
    "    # Calculate the starting points for cropping\n",
    "    start_x = (current_width - target_width) // 2\n",
    "    start_y = (current_height - target_height) // 2\n",
    "\n",
    "    # Crop the image\n",
    "    cropped_dat = data[start_y:start_y+target_height, start_x:start_x+target_width, :]\n",
    "\n",
    "\n",
    "    # Scale the 2D array\n",
    "    #scaled_array = (cropped_data- np.min(cropped_data))/(np.max(cropped_data)-np.min(cropped_data))\n",
    "    #scaled_array = norm(cropped_data)\n",
    "\n",
    "    cropped_data.append(cropped_dat)\n",
    "\n",
    "train = []\n",
    "for data in data_S:\n",
    "    for i in range(259):\n",
    "        for j in range(259):\n",
    "            data_point = data[i,j,:]\n",
    "            \n",
    "\n",
    "\n",
    "            # Scale the 2D array\n",
    "            #scaled_array = (cropped_data- np.min(cropped_data))/(np.max(cropped_data)-np.min(cropped_data))\n",
    "            #scaled_array = norm(cropped_data)\n",
    "\n",
    "            train.append(data_point)\n",
    "\n",
    "train = np.array(train)\n",
    "\n",
    "d2_train_dataset = norm(train)\n",
    "train , test =  train_test_split(d2_train_dataset, test_size=int(d2_train_dataset.shape[0] * 0.1), random_state=0)"
   ]
  },
  {
   "cell_type": "code",
   "execution_count": 5,
   "metadata": {},
   "outputs": [
    {
     "name": "stderr",
     "output_type": "stream",
     "text": [
      "{'epoch': 1, 'loss': 0.3927}:   5%|▌         | 1/20 [00:30<09:48, 30.99s/it]"
     ]
    }
   ],
   "source": [
    "layers = [300, 150, 75]\n",
    "\n",
    "dbn = DBN(train.shape[1], layers)\n",
    "dbn.train_DBN(torch.from_numpy(train).double())\n",
    "\n",
    "model = dbn.initialize_model()"
   ]
  }
 ],
 "metadata": {
  "kernelspec": {
   "display_name": "py38",
   "language": "python",
   "name": "python3"
  },
  "language_info": {
   "codemirror_mode": {
    "name": "ipython",
    "version": 3
   },
   "file_extension": ".py",
   "mimetype": "text/x-python",
   "name": "python",
   "nbconvert_exporter": "python",
   "pygments_lexer": "ipython3",
   "version": "3.8.16"
  },
  "orig_nbformat": 4
 },
 "nbformat": 4,
 "nbformat_minor": 2
}
