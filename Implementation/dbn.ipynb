{
 "cells": [
  {
   "cell_type": "code",
   "execution_count": 1,
   "metadata": {},
   "outputs": [],
   "source": [
    "import numpy as np\n",
    "import matplotlib.pyplot as plt\n",
    "\n",
    "from sklearn.datasets import load_digits\n",
    "from sklearn.model_selection import train_test_split\n",
    "from sklearn.linear_model import LogisticRegression\n",
    "from sklearn.neural_network import BernoulliRBM\n",
    "from sklearn.base import clone\n",
    "from sklearn.pipeline import Pipeline\n",
    "from sklearn.metrics import classification_report, mean_squared_error\n",
    "from sklearn.preprocessing import StandardScaler\n",
    "from scipy.spatial import distance\n"
   ]
  },
  {
   "cell_type": "code",
   "execution_count": 2,
   "metadata": {},
   "outputs": [],
   "source": [
    "def norm(arr):\n",
    "    arr = arr.astype(np.float)\n",
    "    arr -= arr.min()\n",
    "    arr /= arr.max()\n",
    "    return arr"
   ]
  },
  {
   "cell_type": "code",
   "execution_count": 3,
   "metadata": {},
   "outputs": [],
   "source": [
    "# load MNIST data set\n",
    "mnist = load_digits()\n",
    "X, Y = mnist.data, mnist.target\n",
    "\n",
    "# normalize inputs to 0-1 range\n",
    "X = norm(X)\n",
    "\n",
    "# split into train, validation, and test data sets\n",
    "X_train, X_test, Y_train, Y_test = train_test_split(X,       Y,       test_size=200, random_state=0)\n",
    "labels = np.random.binomial(n=1, p=0.5, size=[1000]).reshape(1000,1)"
   ]
  },
  {
   "cell_type": "code",
   "execution_count": 3,
   "metadata": {},
   "outputs": [],
   "source": [
    "indices = [\"0\", \"1\", \"10\", \"11\", \"12\", \"13\"]\n",
    "data_S = []\n",
    "for index in indices:\n",
    "    data = np.load(f\"../data/data{index}.npy\")\n",
    "    data_S.append(data)"
   ]
  },
  {
   "cell_type": "code",
   "execution_count": 4,
   "metadata": {},
   "outputs": [
    {
     "name": "stdout",
     "output_type": "stream",
     "text": [
      "(291, 275, 442)\n",
      "(282, 274, 442)\n",
      "(259, 275, 442)\n",
      "(271, 278, 442)\n",
      "(284, 278, 442)\n",
      "(286, 278, 442)\n"
     ]
    }
   ],
   "source": [
    "for data in data_S:\n",
    "    print(data.shape)"
   ]
  },
  {
   "cell_type": "code",
   "execution_count": 5,
   "metadata": {},
   "outputs": [],
   "source": [
    "target_width = 259\n",
    "target_height = 259\n",
    "cropped_data = []\n",
    "for data in data_S:\n",
    "    \n",
    "    current_height, current_width, _ = data.shape\n",
    "\n",
    "    # Calculate the starting points for cropping\n",
    "    start_x = (current_width - target_width) // 2\n",
    "    start_y = (current_height - target_height) // 2\n",
    "\n",
    "    # Crop the image\n",
    "    cropped_dat = data[start_y:start_y+target_height, start_x:start_x+target_width, :]\n",
    "\n",
    "\n",
    "    cropped_data.append(cropped_dat)"
   ]
  },
  {
   "cell_type": "code",
   "execution_count": 6,
   "metadata": {},
   "outputs": [
    {
     "data": {
      "text/plain": [
       "(6, 259, 259, 442)"
      ]
     },
     "execution_count": 6,
     "metadata": {},
     "output_type": "execute_result"
    }
   ],
   "source": [
    "np.array(cropped_data).shape"
   ]
  },
  {
   "cell_type": "code",
   "execution_count": 7,
   "metadata": {},
   "outputs": [],
   "source": [
    "target_width = 259\n",
    "target_height = 259\n",
    "train = []\n",
    "for data in cropped_data:\n",
    "    for i in range(259):\n",
    "        for j in range(259):\n",
    "            data_point = data[i,j,:]\n",
    "            train.append(data_point)\n",
    "\n",
    "train = np.array(train)"
   ]
  },
  {
   "cell_type": "code",
   "execution_count": 8,
   "metadata": {},
   "outputs": [
    {
     "data": {
      "text/plain": [
       "(402486, 442)"
      ]
     },
     "execution_count": 8,
     "metadata": {},
     "output_type": "execute_result"
    }
   ],
   "source": [
    "train.shape"
   ]
  },
  {
   "cell_type": "code",
   "execution_count": 9,
   "metadata": {},
   "outputs": [],
   "source": [
    "d2_train_dataset = norm(train)\n",
    "train , test =  train_test_split(d2_train_dataset, test_size=int(d2_train_dataset.shape[0] * 0.1), random_state=0)"
   ]
  },
  {
   "cell_type": "code",
   "execution_count": 10,
   "metadata": {},
   "outputs": [
    {
     "data": {
      "text/plain": [
       "(362238, 442)"
      ]
     },
     "execution_count": 10,
     "metadata": {},
     "output_type": "execute_result"
    }
   ],
   "source": [
    "train.shape"
   ]
  },
  {
   "cell_type": "code",
   "execution_count": 11,
   "metadata": {},
   "outputs": [
    {
     "data": {
      "text/plain": [
       "(40248, 442)"
      ]
     },
     "execution_count": 11,
     "metadata": {},
     "output_type": "execute_result"
    }
   ],
   "source": [
    "test.shape"
   ]
  },
  {
   "cell_type": "code",
   "execution_count": 12,
   "metadata": {},
   "outputs": [
    {
     "name": "stdout",
     "output_type": "stream",
     "text": [
      "[BernoulliRBM] Iteration 1, pseudo-likelihood = -121.12, time = 59.29s\n"
     ]
    },
    {
     "ename": "KeyboardInterrupt",
     "evalue": "",
     "output_type": "error",
     "traceback": [
      "\u001b[0;31m---------------------------------------------------------------------------\u001b[0m",
      "\u001b[0;31mKeyboardInterrupt\u001b[0m                         Traceback (most recent call last)",
      "\u001b[0;32m/var/folders/bv/40ds_2_n6cz_sl6vwnzk68d40000gn/T/ipykernel_1976/3091625651.py\u001b[0m in \u001b[0;36m<module>\u001b[0;34m\u001b[0m\n\u001b[1;32m     22\u001b[0m \u001b[0;31m# train and evaluate models\u001b[0m\u001b[0;34m\u001b[0m\u001b[0;34m\u001b[0m\u001b[0;34m\u001b[0m\u001b[0m\n\u001b[1;32m     23\u001b[0m \u001b[0;34m\u001b[0m\u001b[0m\n\u001b[0;32m---> 24\u001b[0;31m \u001b[0mmodel\u001b[0m\u001b[0;34m.\u001b[0m\u001b[0mfit\u001b[0m\u001b[0;34m(\u001b[0m\u001b[0mtrain\u001b[0m\u001b[0;34m)\u001b[0m\u001b[0;34m\u001b[0m\u001b[0;34m\u001b[0m\u001b[0m\n\u001b[0m",
      "\u001b[0;32m/Library/Frameworks/Python.framework/Versions/3.7/lib/python3.7/site-packages/sklearn/pipeline.py\u001b[0m in \u001b[0;36mfit\u001b[0;34m(self, X, y, **fit_params)\u001b[0m\n\u001b[1;32m    388\u001b[0m         \"\"\"\n\u001b[1;32m    389\u001b[0m         \u001b[0mfit_params_steps\u001b[0m \u001b[0;34m=\u001b[0m \u001b[0mself\u001b[0m\u001b[0;34m.\u001b[0m\u001b[0m_check_fit_params\u001b[0m\u001b[0;34m(\u001b[0m\u001b[0;34m**\u001b[0m\u001b[0mfit_params\u001b[0m\u001b[0;34m)\u001b[0m\u001b[0;34m\u001b[0m\u001b[0;34m\u001b[0m\u001b[0m\n\u001b[0;32m--> 390\u001b[0;31m         \u001b[0mXt\u001b[0m \u001b[0;34m=\u001b[0m \u001b[0mself\u001b[0m\u001b[0;34m.\u001b[0m\u001b[0m_fit\u001b[0m\u001b[0;34m(\u001b[0m\u001b[0mX\u001b[0m\u001b[0;34m,\u001b[0m \u001b[0my\u001b[0m\u001b[0;34m,\u001b[0m \u001b[0;34m**\u001b[0m\u001b[0mfit_params_steps\u001b[0m\u001b[0;34m)\u001b[0m\u001b[0;34m\u001b[0m\u001b[0;34m\u001b[0m\u001b[0m\n\u001b[0m\u001b[1;32m    391\u001b[0m         \u001b[0;32mwith\u001b[0m \u001b[0m_print_elapsed_time\u001b[0m\u001b[0;34m(\u001b[0m\u001b[0;34m\"Pipeline\"\u001b[0m\u001b[0;34m,\u001b[0m \u001b[0mself\u001b[0m\u001b[0;34m.\u001b[0m\u001b[0m_log_message\u001b[0m\u001b[0;34m(\u001b[0m\u001b[0mlen\u001b[0m\u001b[0;34m(\u001b[0m\u001b[0mself\u001b[0m\u001b[0;34m.\u001b[0m\u001b[0msteps\u001b[0m\u001b[0;34m)\u001b[0m \u001b[0;34m-\u001b[0m \u001b[0;36m1\u001b[0m\u001b[0;34m)\u001b[0m\u001b[0;34m)\u001b[0m\u001b[0;34m:\u001b[0m\u001b[0;34m\u001b[0m\u001b[0;34m\u001b[0m\u001b[0m\n\u001b[1;32m    392\u001b[0m             \u001b[0;32mif\u001b[0m \u001b[0mself\u001b[0m\u001b[0;34m.\u001b[0m\u001b[0m_final_estimator\u001b[0m \u001b[0;34m!=\u001b[0m \u001b[0;34m\"passthrough\"\u001b[0m\u001b[0;34m:\u001b[0m\u001b[0;34m\u001b[0m\u001b[0;34m\u001b[0m\u001b[0m\n",
      "\u001b[0;32m/Library/Frameworks/Python.framework/Versions/3.7/lib/python3.7/site-packages/sklearn/pipeline.py\u001b[0m in \u001b[0;36m_fit\u001b[0;34m(self, X, y, **fit_params_steps)\u001b[0m\n\u001b[1;32m    353\u001b[0m                 \u001b[0mmessage_clsname\u001b[0m\u001b[0;34m=\u001b[0m\u001b[0;34m\"Pipeline\"\u001b[0m\u001b[0;34m,\u001b[0m\u001b[0;34m\u001b[0m\u001b[0;34m\u001b[0m\u001b[0m\n\u001b[1;32m    354\u001b[0m                 \u001b[0mmessage\u001b[0m\u001b[0;34m=\u001b[0m\u001b[0mself\u001b[0m\u001b[0;34m.\u001b[0m\u001b[0m_log_message\u001b[0m\u001b[0;34m(\u001b[0m\u001b[0mstep_idx\u001b[0m\u001b[0;34m)\u001b[0m\u001b[0;34m,\u001b[0m\u001b[0;34m\u001b[0m\u001b[0;34m\u001b[0m\u001b[0m\n\u001b[0;32m--> 355\u001b[0;31m                 \u001b[0;34m**\u001b[0m\u001b[0mfit_params_steps\u001b[0m\u001b[0;34m[\u001b[0m\u001b[0mname\u001b[0m\u001b[0;34m]\u001b[0m\u001b[0;34m,\u001b[0m\u001b[0;34m\u001b[0m\u001b[0;34m\u001b[0m\u001b[0m\n\u001b[0m\u001b[1;32m    356\u001b[0m             )\n\u001b[1;32m    357\u001b[0m             \u001b[0;31m# Replace the transformer of the step with the fitted\u001b[0m\u001b[0;34m\u001b[0m\u001b[0;34m\u001b[0m\u001b[0;34m\u001b[0m\u001b[0m\n",
      "\u001b[0;32m/Library/Frameworks/Python.framework/Versions/3.7/lib/python3.7/site-packages/joblib/memory.py\u001b[0m in \u001b[0;36m__call__\u001b[0;34m(self, *args, **kwargs)\u001b[0m\n\u001b[1;32m    347\u001b[0m \u001b[0;34m\u001b[0m\u001b[0m\n\u001b[1;32m    348\u001b[0m     \u001b[0;32mdef\u001b[0m \u001b[0m__call__\u001b[0m\u001b[0;34m(\u001b[0m\u001b[0mself\u001b[0m\u001b[0;34m,\u001b[0m \u001b[0;34m*\u001b[0m\u001b[0margs\u001b[0m\u001b[0;34m,\u001b[0m \u001b[0;34m**\u001b[0m\u001b[0mkwargs\u001b[0m\u001b[0;34m)\u001b[0m\u001b[0;34m:\u001b[0m\u001b[0;34m\u001b[0m\u001b[0;34m\u001b[0m\u001b[0m\n\u001b[0;32m--> 349\u001b[0;31m         \u001b[0;32mreturn\u001b[0m \u001b[0mself\u001b[0m\u001b[0;34m.\u001b[0m\u001b[0mfunc\u001b[0m\u001b[0;34m(\u001b[0m\u001b[0;34m*\u001b[0m\u001b[0margs\u001b[0m\u001b[0;34m,\u001b[0m \u001b[0;34m**\u001b[0m\u001b[0mkwargs\u001b[0m\u001b[0;34m)\u001b[0m\u001b[0;34m\u001b[0m\u001b[0;34m\u001b[0m\u001b[0m\n\u001b[0m\u001b[1;32m    350\u001b[0m \u001b[0;34m\u001b[0m\u001b[0m\n\u001b[1;32m    351\u001b[0m     \u001b[0;32mdef\u001b[0m \u001b[0mcall_and_shelve\u001b[0m\u001b[0;34m(\u001b[0m\u001b[0mself\u001b[0m\u001b[0;34m,\u001b[0m \u001b[0;34m*\u001b[0m\u001b[0margs\u001b[0m\u001b[0;34m,\u001b[0m \u001b[0;34m**\u001b[0m\u001b[0mkwargs\u001b[0m\u001b[0;34m)\u001b[0m\u001b[0;34m:\u001b[0m\u001b[0;34m\u001b[0m\u001b[0;34m\u001b[0m\u001b[0m\n",
      "\u001b[0;32m/Library/Frameworks/Python.framework/Versions/3.7/lib/python3.7/site-packages/sklearn/pipeline.py\u001b[0m in \u001b[0;36m_fit_transform_one\u001b[0;34m(transformer, X, y, weight, message_clsname, message, **fit_params)\u001b[0m\n\u001b[1;32m    891\u001b[0m     \u001b[0;32mwith\u001b[0m \u001b[0m_print_elapsed_time\u001b[0m\u001b[0;34m(\u001b[0m\u001b[0mmessage_clsname\u001b[0m\u001b[0;34m,\u001b[0m \u001b[0mmessage\u001b[0m\u001b[0;34m)\u001b[0m\u001b[0;34m:\u001b[0m\u001b[0;34m\u001b[0m\u001b[0;34m\u001b[0m\u001b[0m\n\u001b[1;32m    892\u001b[0m         \u001b[0;32mif\u001b[0m \u001b[0mhasattr\u001b[0m\u001b[0;34m(\u001b[0m\u001b[0mtransformer\u001b[0m\u001b[0;34m,\u001b[0m \u001b[0;34m\"fit_transform\"\u001b[0m\u001b[0;34m)\u001b[0m\u001b[0;34m:\u001b[0m\u001b[0;34m\u001b[0m\u001b[0;34m\u001b[0m\u001b[0m\n\u001b[0;32m--> 893\u001b[0;31m             \u001b[0mres\u001b[0m \u001b[0;34m=\u001b[0m \u001b[0mtransformer\u001b[0m\u001b[0;34m.\u001b[0m\u001b[0mfit_transform\u001b[0m\u001b[0;34m(\u001b[0m\u001b[0mX\u001b[0m\u001b[0;34m,\u001b[0m \u001b[0my\u001b[0m\u001b[0;34m,\u001b[0m \u001b[0;34m**\u001b[0m\u001b[0mfit_params\u001b[0m\u001b[0;34m)\u001b[0m\u001b[0;34m\u001b[0m\u001b[0;34m\u001b[0m\u001b[0m\n\u001b[0m\u001b[1;32m    894\u001b[0m         \u001b[0;32melse\u001b[0m\u001b[0;34m:\u001b[0m\u001b[0;34m\u001b[0m\u001b[0;34m\u001b[0m\u001b[0m\n\u001b[1;32m    895\u001b[0m             \u001b[0mres\u001b[0m \u001b[0;34m=\u001b[0m \u001b[0mtransformer\u001b[0m\u001b[0;34m.\u001b[0m\u001b[0mfit\u001b[0m\u001b[0;34m(\u001b[0m\u001b[0mX\u001b[0m\u001b[0;34m,\u001b[0m \u001b[0my\u001b[0m\u001b[0;34m,\u001b[0m \u001b[0;34m**\u001b[0m\u001b[0mfit_params\u001b[0m\u001b[0;34m)\u001b[0m\u001b[0;34m.\u001b[0m\u001b[0mtransform\u001b[0m\u001b[0;34m(\u001b[0m\u001b[0mX\u001b[0m\u001b[0;34m)\u001b[0m\u001b[0;34m\u001b[0m\u001b[0;34m\u001b[0m\u001b[0m\n",
      "\u001b[0;32m/Library/Frameworks/Python.framework/Versions/3.7/lib/python3.7/site-packages/sklearn/base.py\u001b[0m in \u001b[0;36mfit_transform\u001b[0;34m(self, X, y, **fit_params)\u001b[0m\n\u001b[1;32m    850\u001b[0m         \u001b[0;32mif\u001b[0m \u001b[0my\u001b[0m \u001b[0;32mis\u001b[0m \u001b[0;32mNone\u001b[0m\u001b[0;34m:\u001b[0m\u001b[0;34m\u001b[0m\u001b[0;34m\u001b[0m\u001b[0m\n\u001b[1;32m    851\u001b[0m             \u001b[0;31m# fit method of arity 1 (unsupervised transformation)\u001b[0m\u001b[0;34m\u001b[0m\u001b[0;34m\u001b[0m\u001b[0;34m\u001b[0m\u001b[0m\n\u001b[0;32m--> 852\u001b[0;31m             \u001b[0;32mreturn\u001b[0m \u001b[0mself\u001b[0m\u001b[0;34m.\u001b[0m\u001b[0mfit\u001b[0m\u001b[0;34m(\u001b[0m\u001b[0mX\u001b[0m\u001b[0;34m,\u001b[0m \u001b[0;34m**\u001b[0m\u001b[0mfit_params\u001b[0m\u001b[0;34m)\u001b[0m\u001b[0;34m.\u001b[0m\u001b[0mtransform\u001b[0m\u001b[0;34m(\u001b[0m\u001b[0mX\u001b[0m\u001b[0;34m)\u001b[0m\u001b[0;34m\u001b[0m\u001b[0;34m\u001b[0m\u001b[0m\n\u001b[0m\u001b[1;32m    853\u001b[0m         \u001b[0;32melse\u001b[0m\u001b[0;34m:\u001b[0m\u001b[0;34m\u001b[0m\u001b[0;34m\u001b[0m\u001b[0m\n\u001b[1;32m    854\u001b[0m             \u001b[0;31m# fit method of arity 2 (supervised transformation)\u001b[0m\u001b[0;34m\u001b[0m\u001b[0;34m\u001b[0m\u001b[0;34m\u001b[0m\u001b[0m\n",
      "\u001b[0;32m/Library/Frameworks/Python.framework/Versions/3.7/lib/python3.7/site-packages/sklearn/neural_network/_rbm.py\u001b[0m in \u001b[0;36mfit\u001b[0;34m(self, X, y)\u001b[0m\n\u001b[1;32m    402\u001b[0m         \u001b[0;32mfor\u001b[0m \u001b[0miteration\u001b[0m \u001b[0;32min\u001b[0m \u001b[0mrange\u001b[0m\u001b[0;34m(\u001b[0m\u001b[0;36m1\u001b[0m\u001b[0;34m,\u001b[0m \u001b[0mself\u001b[0m\u001b[0;34m.\u001b[0m\u001b[0mn_iter\u001b[0m \u001b[0;34m+\u001b[0m \u001b[0;36m1\u001b[0m\u001b[0;34m)\u001b[0m\u001b[0;34m:\u001b[0m\u001b[0;34m\u001b[0m\u001b[0;34m\u001b[0m\u001b[0m\n\u001b[1;32m    403\u001b[0m             \u001b[0;32mfor\u001b[0m \u001b[0mbatch_slice\u001b[0m \u001b[0;32min\u001b[0m \u001b[0mbatch_slices\u001b[0m\u001b[0;34m:\u001b[0m\u001b[0;34m\u001b[0m\u001b[0;34m\u001b[0m\u001b[0m\n\u001b[0;32m--> 404\u001b[0;31m                 \u001b[0mself\u001b[0m\u001b[0;34m.\u001b[0m\u001b[0m_fit\u001b[0m\u001b[0;34m(\u001b[0m\u001b[0mX\u001b[0m\u001b[0;34m[\u001b[0m\u001b[0mbatch_slice\u001b[0m\u001b[0;34m]\u001b[0m\u001b[0;34m,\u001b[0m \u001b[0mrng\u001b[0m\u001b[0;34m)\u001b[0m\u001b[0;34m\u001b[0m\u001b[0;34m\u001b[0m\u001b[0m\n\u001b[0m\u001b[1;32m    405\u001b[0m \u001b[0;34m\u001b[0m\u001b[0m\n\u001b[1;32m    406\u001b[0m             \u001b[0;32mif\u001b[0m \u001b[0mverbose\u001b[0m\u001b[0;34m:\u001b[0m\u001b[0;34m\u001b[0m\u001b[0;34m\u001b[0m\u001b[0m\n",
      "\u001b[0;32m/Library/Frameworks/Python.framework/Versions/3.7/lib/python3.7/site-packages/sklearn/neural_network/_rbm.py\u001b[0m in \u001b[0;36m_fit\u001b[0;34m(self, v_pos, rng)\u001b[0m\n\u001b[1;32m    313\u001b[0m         \"\"\"\n\u001b[1;32m    314\u001b[0m         \u001b[0mh_pos\u001b[0m \u001b[0;34m=\u001b[0m \u001b[0mself\u001b[0m\u001b[0;34m.\u001b[0m\u001b[0m_mean_hiddens\u001b[0m\u001b[0;34m(\u001b[0m\u001b[0mv_pos\u001b[0m\u001b[0;34m)\u001b[0m\u001b[0;34m\u001b[0m\u001b[0;34m\u001b[0m\u001b[0m\n\u001b[0;32m--> 315\u001b[0;31m         \u001b[0mv_neg\u001b[0m \u001b[0;34m=\u001b[0m \u001b[0mself\u001b[0m\u001b[0;34m.\u001b[0m\u001b[0m_sample_visibles\u001b[0m\u001b[0;34m(\u001b[0m\u001b[0mself\u001b[0m\u001b[0;34m.\u001b[0m\u001b[0mh_samples_\u001b[0m\u001b[0;34m,\u001b[0m \u001b[0mrng\u001b[0m\u001b[0;34m)\u001b[0m\u001b[0;34m\u001b[0m\u001b[0;34m\u001b[0m\u001b[0m\n\u001b[0m\u001b[1;32m    316\u001b[0m         \u001b[0mh_neg\u001b[0m \u001b[0;34m=\u001b[0m \u001b[0mself\u001b[0m\u001b[0;34m.\u001b[0m\u001b[0m_mean_hiddens\u001b[0m\u001b[0;34m(\u001b[0m\u001b[0mv_neg\u001b[0m\u001b[0;34m)\u001b[0m\u001b[0;34m\u001b[0m\u001b[0;34m\u001b[0m\u001b[0m\n\u001b[1;32m    317\u001b[0m \u001b[0;34m\u001b[0m\u001b[0m\n",
      "\u001b[0;32m/Library/Frameworks/Python.framework/Versions/3.7/lib/python3.7/site-packages/sklearn/neural_network/_rbm.py\u001b[0m in \u001b[0;36m_sample_visibles\u001b[0;34m(self, h, rng)\u001b[0m\n\u001b[1;32m    215\u001b[0m             \u001b[0mValues\u001b[0m \u001b[0mof\u001b[0m \u001b[0mthe\u001b[0m \u001b[0mvisible\u001b[0m \u001b[0mlayer\u001b[0m\u001b[0;34m.\u001b[0m\u001b[0;34m\u001b[0m\u001b[0;34m\u001b[0m\u001b[0m\n\u001b[1;32m    216\u001b[0m         \"\"\"\n\u001b[0;32m--> 217\u001b[0;31m         \u001b[0mp\u001b[0m \u001b[0;34m=\u001b[0m \u001b[0mnp\u001b[0m\u001b[0;34m.\u001b[0m\u001b[0mdot\u001b[0m\u001b[0;34m(\u001b[0m\u001b[0mh\u001b[0m\u001b[0;34m,\u001b[0m \u001b[0mself\u001b[0m\u001b[0;34m.\u001b[0m\u001b[0mcomponents_\u001b[0m\u001b[0;34m)\u001b[0m\u001b[0;34m\u001b[0m\u001b[0;34m\u001b[0m\u001b[0m\n\u001b[0m\u001b[1;32m    218\u001b[0m         \u001b[0mp\u001b[0m \u001b[0;34m+=\u001b[0m \u001b[0mself\u001b[0m\u001b[0;34m.\u001b[0m\u001b[0mintercept_visible_\u001b[0m\u001b[0;34m\u001b[0m\u001b[0;34m\u001b[0m\u001b[0m\n\u001b[1;32m    219\u001b[0m         \u001b[0mexpit\u001b[0m\u001b[0;34m(\u001b[0m\u001b[0mp\u001b[0m\u001b[0;34m,\u001b[0m \u001b[0mout\u001b[0m\u001b[0;34m=\u001b[0m\u001b[0mp\u001b[0m\u001b[0;34m)\u001b[0m\u001b[0;34m\u001b[0m\u001b[0;34m\u001b[0m\u001b[0m\n",
      "\u001b[0;32m<__array_function__ internals>\u001b[0m in \u001b[0;36mdot\u001b[0;34m(*args, **kwargs)\u001b[0m\n",
      "\u001b[0;31mKeyboardInterrupt\u001b[0m: "
     ]
    }
   ],
   "source": [
    "# --------------------------------------------------------------------------------\n",
    "# set hyperparameters\n",
    "\n",
    "learning_rate = 0.001\n",
    "total_units   =  300 \n",
    "total_epochs  =   50 \n",
    "batch_size    =  32 \n",
    "\n",
    "# --------------------------------------------------------------------------------\n",
    "# construct models\n",
    "\n",
    "# RBM\n",
    "rbm1 = BernoulliRBM(n_components=total_units, learning_rate=learning_rate, batch_size=batch_size, n_iter=total_epochs, verbose=2)\n",
    "rbm2 = BernoulliRBM(n_components=int(total_units/2), learning_rate=learning_rate, batch_size=batch_size, n_iter=total_epochs, verbose=2)\n",
    "rbm3 = BernoulliRBM(n_components=int(total_units/4), learning_rate=learning_rate, batch_size=batch_size, n_iter=total_epochs, verbose=2)\n",
    "rbm4 = BernoulliRBM(n_components=int(total_units/6), learning_rate=learning_rate, batch_size=batch_size, n_iter=total_epochs, verbose=1)\n",
    "\n",
    "\n",
    "models = []                       \n",
    "model = Pipeline(steps=[('rbm1', clone(rbm1)), ('rbm2', clone(rbm2)),('rbm3', clone(rbm3))])  # RBM stack / DBN\n",
    "# --------------------------------------------------------------------------------\n",
    "# train and evaluate models\n",
    "\n",
    "model.fit(train)"
   ]
  },
  {
   "cell_type": "code",
   "execution_count": 5,
   "metadata": {},
   "outputs": [],
   "source": [
    "def sigmoid_activation(x):\n",
    "    \"\"\"\n",
    "    Numerically stable sigmoid function with clipping.\n",
    "    \n",
    "    :param x: Input array.\n",
    "    :return: Sigmoid of x.\n",
    "    \"\"\"\n",
    "    # Clip x to avoid overflow in exp\n",
    "    clipped_x = np.clip(x, -500, 500)\n",
    "\n",
    "    return np.where(clipped_x >= 0, \n",
    "                    1 / (1 + np.exp(-clipped_x)), \n",
    "                    np.exp(clipped_x) / (1 + np.exp(clipped_x)))\n",
    "\n",
    "\n",
    "def reconstruct_visible(rbm, hidden):\n",
    "    \"\"\"\n",
    "    Reconstruct the visible units from the hidden units in an RBM.\n",
    "\n",
    "    :param rbm: Trained instance of BernoulliRBM.\n",
    "    :param hidden: Array of hidden units.\n",
    "    :return: Reconstructed visible units.\n",
    "    \"\"\"\n",
    "    # Compute the activation of the visible units\n",
    "    v_activation = np.dot(hidden, rbm.components_) + rbm.intercept_visible_\n",
    "\n",
    "    # Compute the probability of the visible units given the hidden units\n",
    "    v_prob = sigmoid_activation(v_activation)\n",
    "\n",
    "    # Sample from these probabilities to get the binary visible units\n",
    "    # For BernoulliRBM, this step can be binary sampling or directly using probabilities\n",
    "    v_reconstructed = np.random.binomial(1, v_prob)\n",
    "\n",
    "    return v_reconstructed"
   ]
  },
  {
   "cell_type": "code",
   "execution_count": 10,
   "metadata": {},
   "outputs": [],
   "source": [
    "hidden_features = model.transform(test)\n",
    "# Initialize the reconstructed data with the hidden features\n",
    "reconstructed_data = hidden_features\n",
    "\n",
    "# Reconstruct the data from the top RBM to the bottom\n",
    "for rbm in reversed(model.steps):\n",
    "    reconstructed_data = reconstruct_visible(rbm[1], reconstructed_data)"
   ]
  },
  {
   "cell_type": "code",
   "execution_count": 11,
   "metadata": {},
   "outputs": [],
   "source": [
    "# Flatten the original and reconstructed data if they are in 2D or 3D\n",
    "original_data_flat = test.flatten()\n",
    "reconstructed_data_flat = reconstructed_data.flatten()\n",
    "\n",
    "# Compute the reconstruction error for each sample\n",
    "reconstruction_errors = mean_squared_error(original_data_flat, reconstructed_data_flat)"
   ]
  },
  {
   "cell_type": "code",
   "execution_count": 12,
   "metadata": {},
   "outputs": [
    {
     "data": {
      "text/plain": [
       "0.31897979348975536"
      ]
     },
     "execution_count": 12,
     "metadata": {},
     "output_type": "execute_result"
    }
   ],
   "source": [
    "reconstruction_errors"
   ]
  },
  {
   "cell_type": "code",
   "execution_count": 13,
   "metadata": {},
   "outputs": [
    {
     "name": "stdout",
     "output_type": "stream",
     "text": [
      "Correct Outlier Predictions (True Positives): 0\n",
      "Correct Non-Outlier Predictions (True Negatives): 190\n",
      "Incorrect Outlier Predictions (False Positives): 10\n",
      "Incorrect Non-Outlier Predictions (False Negatives): 0\n"
     ]
    }
   ],
   "source": [
    "transformed_features = model.transform(test)\n",
    "\n",
    "# Calculate the centroid of the transformed features\n",
    "centroid = np.mean(transformed_features, axis=0)\n",
    "\n",
    "# Compute distances of each sample from the centroid\n",
    "distances = distance.cdist(transformed_features, [centroid], 'euclidean').flatten()\n",
    "\n",
    "# Determine a threshold for considering a point as an outlier\n",
    "threshold = np.percentile(distances, 95)  # for example, top 5% as outliers\n",
    "\n",
    "# Flag points as outliers\n",
    "outliers = distances > threshold\n",
    "\n",
    "truth = np.zeros(200)\n",
    "\n",
    "def evaluate_outlier_predictions(predicted_outliers, true_outliers):\n",
    "    TP = np.sum((predicted_outliers == 1) & (true_outliers == 1))  # True Positives\n",
    "    TN = np.sum((predicted_outliers == 0) & (true_outliers == 0))  # True Negatives\n",
    "    FP = np.sum((predicted_outliers == 1) & (true_outliers == 0))  # False Positives\n",
    "    FN = np.sum((predicted_outliers == 0) & (true_outliers == 1))  # False Negatives\n",
    "\n",
    "    print(f\"Correct Outlier Predictions (True Positives): {TP}\")\n",
    "    print(f\"Correct Non-Outlier Predictions (True Negatives): {TN}\")\n",
    "    print(f\"Incorrect Outlier Predictions (False Positives): {FP}\")\n",
    "    print(f\"Incorrect Non-Outlier Predictions (False Negatives): {FN}\")\n",
    "\n",
    "# Evaluate your model's performance\n",
    "evaluate_outlier_predictions(outliers, truth)\n"
   ]
  },
  {
   "cell_type": "code",
   "execution_count": 4,
   "metadata": {},
   "outputs": [
    {
     "name": "stdout",
     "output_type": "stream",
     "text": [
      "[BernoulliRBM] Iteration 1, pseudo-likelihood = -35.86, time = 0.40s\n",
      "[BernoulliRBM] Iteration 2, pseudo-likelihood = -32.83, time = 0.53s\n",
      "[BernoulliRBM] Iteration 3, pseudo-likelihood = -32.02, time = 0.64s\n",
      "[BernoulliRBM] Iteration 4, pseudo-likelihood = -30.26, time = 0.85s\n",
      "[BernoulliRBM] Iteration 5, pseudo-likelihood = -29.49, time = 0.38s\n",
      "[BernoulliRBM] Iteration 6, pseudo-likelihood = -27.50, time = 0.26s\n",
      "[BernoulliRBM] Iteration 7, pseudo-likelihood = -29.21, time = 0.35s\n",
      "[BernoulliRBM] Iteration 8, pseudo-likelihood = -28.39, time = 0.27s\n",
      "[BernoulliRBM] Iteration 9, pseudo-likelihood = -27.64, time = 0.27s\n",
      "[BernoulliRBM] Iteration 10, pseudo-likelihood = -27.84, time = 0.25s\n",
      "[BernoulliRBM] Iteration 11, pseudo-likelihood = -28.85, time = 0.30s\n",
      "[BernoulliRBM] Iteration 12, pseudo-likelihood = -28.27, time = 0.26s\n",
      "[BernoulliRBM] Iteration 13, pseudo-likelihood = -27.67, time = 0.45s\n",
      "[BernoulliRBM] Iteration 14, pseudo-likelihood = -27.40, time = 0.30s\n",
      "[BernoulliRBM] Iteration 15, pseudo-likelihood = -27.43, time = 0.28s\n",
      "[BernoulliRBM] Iteration 16, pseudo-likelihood = -28.03, time = 0.40s\n",
      "[BernoulliRBM] Iteration 17, pseudo-likelihood = -28.04, time = 0.35s\n",
      "[BernoulliRBM] Iteration 18, pseudo-likelihood = -26.75, time = 0.30s\n",
      "[BernoulliRBM] Iteration 19, pseudo-likelihood = -27.71, time = 0.27s\n",
      "[BernoulliRBM] Iteration 20, pseudo-likelihood = -28.31, time = 0.37s\n",
      "[BernoulliRBM] Iteration 21, pseudo-likelihood = -27.95, time = 0.31s\n",
      "[BernoulliRBM] Iteration 22, pseudo-likelihood = -28.48, time = 0.29s\n",
      "[BernoulliRBM] Iteration 23, pseudo-likelihood = -26.69, time = 0.45s\n",
      "[BernoulliRBM] Iteration 24, pseudo-likelihood = -27.00, time = 0.25s\n",
      "[BernoulliRBM] Iteration 25, pseudo-likelihood = -27.40, time = 0.25s\n",
      "[BernoulliRBM] Iteration 26, pseudo-likelihood = -26.65, time = 0.25s\n",
      "[BernoulliRBM] Iteration 27, pseudo-likelihood = -26.51, time = 0.24s\n",
      "[BernoulliRBM] Iteration 28, pseudo-likelihood = -27.66, time = 0.28s\n",
      "[BernoulliRBM] Iteration 29, pseudo-likelihood = -27.23, time = 0.31s\n",
      "[BernoulliRBM] Iteration 30, pseudo-likelihood = -27.30, time = 0.47s\n",
      "[BernoulliRBM] Iteration 31, pseudo-likelihood = -26.32, time = 0.33s\n",
      "[BernoulliRBM] Iteration 32, pseudo-likelihood = -27.41, time = 0.25s\n",
      "[BernoulliRBM] Iteration 33, pseudo-likelihood = -27.17, time = 0.24s\n",
      "[BernoulliRBM] Iteration 34, pseudo-likelihood = -28.33, time = 0.25s\n",
      "[BernoulliRBM] Iteration 35, pseudo-likelihood = -27.76, time = 0.25s\n",
      "[BernoulliRBM] Iteration 36, pseudo-likelihood = -26.56, time = 0.25s\n",
      "[BernoulliRBM] Iteration 37, pseudo-likelihood = -27.96, time = 0.24s\n",
      "[BernoulliRBM] Iteration 38, pseudo-likelihood = -27.63, time = 0.24s\n",
      "[BernoulliRBM] Iteration 39, pseudo-likelihood = -28.06, time = 0.26s\n",
      "[BernoulliRBM] Iteration 40, pseudo-likelihood = -27.57, time = 0.25s\n",
      "[BernoulliRBM] Iteration 41, pseudo-likelihood = -27.16, time = 0.25s\n",
      "[BernoulliRBM] Iteration 42, pseudo-likelihood = -28.01, time = 0.24s\n",
      "[BernoulliRBM] Iteration 43, pseudo-likelihood = -27.38, time = 0.24s\n",
      "[BernoulliRBM] Iteration 44, pseudo-likelihood = -26.21, time = 0.24s\n",
      "[BernoulliRBM] Iteration 45, pseudo-likelihood = -26.76, time = 0.24s\n",
      "[BernoulliRBM] Iteration 46, pseudo-likelihood = -26.16, time = 0.23s\n",
      "[BernoulliRBM] Iteration 47, pseudo-likelihood = -26.42, time = 0.24s\n",
      "[BernoulliRBM] Iteration 48, pseudo-likelihood = -27.37, time = 0.24s\n",
      "[BernoulliRBM] Iteration 49, pseudo-likelihood = -27.23, time = 0.24s\n",
      "[BernoulliRBM] Iteration 50, pseudo-likelihood = -27.11, time = 0.24s\n",
      "[BernoulliRBM] Iteration 1, pseudo-likelihood = -516.71, time = 0.28s\n",
      "[BernoulliRBM] Iteration 2, pseudo-likelihood = -515.06, time = 0.38s\n",
      "[BernoulliRBM] Iteration 3, pseudo-likelihood = -514.18, time = 0.35s\n",
      "[BernoulliRBM] Iteration 4, pseudo-likelihood = -513.62, time = 0.37s\n",
      "[BernoulliRBM] Iteration 5, pseudo-likelihood = -513.33, time = 0.37s\n",
      "[BernoulliRBM] Iteration 6, pseudo-likelihood = -513.06, time = 0.36s\n",
      "[BernoulliRBM] Iteration 7, pseudo-likelihood = -512.91, time = 0.38s\n",
      "[BernoulliRBM] Iteration 8, pseudo-likelihood = -513.14, time = 0.37s\n",
      "[BernoulliRBM] Iteration 9, pseudo-likelihood = -513.04, time = 0.38s\n",
      "[BernoulliRBM] Iteration 10, pseudo-likelihood = -513.05, time = 0.37s\n",
      "[BernoulliRBM] Iteration 11, pseudo-likelihood = -513.34, time = 0.36s\n",
      "[BernoulliRBM] Iteration 12, pseudo-likelihood = -513.37, time = 0.39s\n",
      "[BernoulliRBM] Iteration 13, pseudo-likelihood = -513.49, time = 0.38s\n",
      "[BernoulliRBM] Iteration 14, pseudo-likelihood = -513.77, time = 0.37s\n",
      "[BernoulliRBM] Iteration 15, pseudo-likelihood = -514.00, time = 0.38s\n",
      "[BernoulliRBM] Iteration 16, pseudo-likelihood = -514.08, time = 0.35s\n",
      "[BernoulliRBM] Iteration 17, pseudo-likelihood = -514.26, time = 0.36s\n",
      "[BernoulliRBM] Iteration 18, pseudo-likelihood = -514.34, time = 0.34s\n",
      "[BernoulliRBM] Iteration 19, pseudo-likelihood = -514.47, time = 0.39s\n",
      "[BernoulliRBM] Iteration 20, pseudo-likelihood = -514.61, time = 0.37s\n",
      "[BernoulliRBM] Iteration 21, pseudo-likelihood = -514.68, time = 0.37s\n",
      "[BernoulliRBM] Iteration 22, pseudo-likelihood = -514.85, time = 0.51s\n",
      "[BernoulliRBM] Iteration 23, pseudo-likelihood = -514.89, time = 0.35s\n",
      "[BernoulliRBM] Iteration 24, pseudo-likelihood = -514.96, time = 0.37s\n",
      "[BernoulliRBM] Iteration 25, pseudo-likelihood = -515.04, time = 0.36s\n",
      "[BernoulliRBM] Iteration 26, pseudo-likelihood = -515.23, time = 0.36s\n",
      "[BernoulliRBM] Iteration 27, pseudo-likelihood = -515.17, time = 0.35s\n",
      "[BernoulliRBM] Iteration 28, pseudo-likelihood = -515.35, time = 0.37s\n",
      "[BernoulliRBM] Iteration 29, pseudo-likelihood = -515.37, time = 0.37s\n",
      "[BernoulliRBM] Iteration 30, pseudo-likelihood = -515.38, time = 0.37s\n",
      "[BernoulliRBM] Iteration 31, pseudo-likelihood = -515.46, time = 0.36s\n",
      "[BernoulliRBM] Iteration 32, pseudo-likelihood = -515.56, time = 0.38s\n",
      "[BernoulliRBM] Iteration 33, pseudo-likelihood = -515.53, time = 0.37s\n",
      "[BernoulliRBM] Iteration 34, pseudo-likelihood = -515.58, time = 0.38s\n",
      "[BernoulliRBM] Iteration 35, pseudo-likelihood = -515.71, time = 0.37s\n",
      "[BernoulliRBM] Iteration 36, pseudo-likelihood = -515.73, time = 0.36s\n",
      "[BernoulliRBM] Iteration 37, pseudo-likelihood = -515.76, time = 0.36s\n",
      "[BernoulliRBM] Iteration 38, pseudo-likelihood = -515.76, time = 0.39s\n",
      "[BernoulliRBM] Iteration 39, pseudo-likelihood = -515.68, time = 0.38s\n",
      "[BernoulliRBM] Iteration 40, pseudo-likelihood = -515.85, time = 0.36s\n",
      "[BernoulliRBM] Iteration 41, pseudo-likelihood = -515.84, time = 0.37s\n",
      "[BernoulliRBM] Iteration 42, pseudo-likelihood = -515.85, time = 0.37s\n",
      "[BernoulliRBM] Iteration 43, pseudo-likelihood = -515.86, time = 0.36s\n",
      "[BernoulliRBM] Iteration 44, pseudo-likelihood = -515.89, time = 0.56s\n",
      "[BernoulliRBM] Iteration 45, pseudo-likelihood = -515.93, time = 0.52s\n",
      "[BernoulliRBM] Iteration 46, pseudo-likelihood = -515.90, time = 0.37s\n",
      "[BernoulliRBM] Iteration 47, pseudo-likelihood = -515.94, time = 0.37s\n",
      "[BernoulliRBM] Iteration 48, pseudo-likelihood = -515.97, time = 0.37s\n",
      "[BernoulliRBM] Iteration 49, pseudo-likelihood = -515.98, time = 0.37s\n",
      "[BernoulliRBM] Iteration 50, pseudo-likelihood = -515.93, time = 0.38s\n",
      "[BernoulliRBM] Iteration 1, pseudo-likelihood = -226.31, time = 0.10s\n",
      "[BernoulliRBM] Iteration 2, pseudo-likelihood = -203.15, time = 0.17s\n",
      "[BernoulliRBM] Iteration 3, pseudo-likelihood = -185.32, time = 0.14s\n",
      "[BernoulliRBM] Iteration 4, pseudo-likelihood = -171.66, time = 0.16s\n",
      "[BernoulliRBM] Iteration 5, pseudo-likelihood = -160.08, time = 0.14s\n",
      "[BernoulliRBM] Iteration 6, pseudo-likelihood = -151.05, time = 0.17s\n",
      "[BernoulliRBM] Iteration 7, pseudo-likelihood = -142.67, time = 0.14s\n",
      "[BernoulliRBM] Iteration 8, pseudo-likelihood = -135.61, time = 0.17s\n",
      "[BernoulliRBM] Iteration 9, pseudo-likelihood = -129.81, time = 0.14s\n",
      "[BernoulliRBM] Iteration 10, pseudo-likelihood = -124.36, time = 0.15s\n",
      "[BernoulliRBM] Iteration 11, pseudo-likelihood = -119.52, time = 0.14s\n",
      "[BernoulliRBM] Iteration 12, pseudo-likelihood = -115.18, time = 0.15s\n",
      "[BernoulliRBM] Iteration 13, pseudo-likelihood = -111.50, time = 0.14s\n",
      "[BernoulliRBM] Iteration 14, pseudo-likelihood = -107.83, time = 0.15s\n",
      "[BernoulliRBM] Iteration 15, pseudo-likelihood = -104.54, time = 0.15s\n",
      "[BernoulliRBM] Iteration 16, pseudo-likelihood = -101.73, time = 0.16s\n",
      "[BernoulliRBM] Iteration 17, pseudo-likelihood = -98.92, time = 0.14s\n",
      "[BernoulliRBM] Iteration 18, pseudo-likelihood = -96.24, time = 0.15s\n",
      "[BernoulliRBM] Iteration 19, pseudo-likelihood = -93.93, time = 0.14s\n",
      "[BernoulliRBM] Iteration 20, pseudo-likelihood = -91.73, time = 0.17s\n",
      "[BernoulliRBM] Iteration 21, pseudo-likelihood = -89.85, time = 0.15s\n",
      "[BernoulliRBM] Iteration 22, pseudo-likelihood = -87.85, time = 0.17s\n",
      "[BernoulliRBM] Iteration 23, pseudo-likelihood = -86.00, time = 0.14s\n",
      "[BernoulliRBM] Iteration 24, pseudo-likelihood = -84.13, time = 0.30s\n",
      "[BernoulliRBM] Iteration 25, pseudo-likelihood = -82.52, time = 0.35s\n",
      "[BernoulliRBM] Iteration 26, pseudo-likelihood = -80.99, time = 0.25s\n",
      "[BernoulliRBM] Iteration 27, pseudo-likelihood = -79.43, time = 0.15s\n",
      "[BernoulliRBM] Iteration 28, pseudo-likelihood = -78.02, time = 0.15s\n",
      "[BernoulliRBM] Iteration 29, pseudo-likelihood = -76.70, time = 0.14s\n",
      "[BernoulliRBM] Iteration 30, pseudo-likelihood = -75.41, time = 0.15s\n",
      "[BernoulliRBM] Iteration 31, pseudo-likelihood = -74.00, time = 0.14s\n",
      "[BernoulliRBM] Iteration 32, pseudo-likelihood = -72.92, time = 0.16s\n",
      "[BernoulliRBM] Iteration 33, pseudo-likelihood = -71.59, time = 0.14s\n",
      "[BernoulliRBM] Iteration 34, pseudo-likelihood = -70.50, time = 0.15s\n",
      "[BernoulliRBM] Iteration 35, pseudo-likelihood = -69.32, time = 0.14s\n",
      "[BernoulliRBM] Iteration 36, pseudo-likelihood = -68.26, time = 0.16s\n",
      "[BernoulliRBM] Iteration 37, pseudo-likelihood = -67.33, time = 0.15s\n",
      "[BernoulliRBM] Iteration 38, pseudo-likelihood = -66.29, time = 0.17s\n",
      "[BernoulliRBM] Iteration 39, pseudo-likelihood = -65.34, time = 0.15s\n",
      "[BernoulliRBM] Iteration 40, pseudo-likelihood = -64.40, time = 0.16s\n",
      "[BernoulliRBM] Iteration 41, pseudo-likelihood = -63.40, time = 0.14s\n",
      "[BernoulliRBM] Iteration 42, pseudo-likelihood = -62.66, time = 0.16s\n",
      "[BernoulliRBM] Iteration 43, pseudo-likelihood = -61.71, time = 0.14s\n",
      "[BernoulliRBM] Iteration 44, pseudo-likelihood = -60.80, time = 0.16s\n",
      "[BernoulliRBM] Iteration 45, pseudo-likelihood = -60.01, time = 0.14s\n",
      "[BernoulliRBM] Iteration 46, pseudo-likelihood = -59.18, time = 0.15s\n",
      "[BernoulliRBM] Iteration 47, pseudo-likelihood = -58.41, time = 0.14s\n",
      "[BernoulliRBM] Iteration 48, pseudo-likelihood = -57.70, time = 0.15s\n",
      "[BernoulliRBM] Iteration 49, pseudo-likelihood = -56.83, time = 0.14s\n",
      "[BernoulliRBM] Iteration 50, pseudo-likelihood = -56.19, time = 0.15s\n",
      "[BernoulliRBM] Iteration 1, pseudo-likelihood = -129.30, time = 0.07s\n",
      "[BernoulliRBM] Iteration 2, pseudo-likelihood = -129.00, time = 0.07s\n",
      "[BernoulliRBM] Iteration 3, pseudo-likelihood = -128.78, time = 0.09s\n",
      "[BernoulliRBM] Iteration 4, pseudo-likelihood = -128.58, time = 0.07s\n",
      "[BernoulliRBM] Iteration 5, pseudo-likelihood = -128.41, time = 0.07s\n",
      "[BernoulliRBM] Iteration 6, pseudo-likelihood = -128.27, time = 0.07s\n",
      "[BernoulliRBM] Iteration 7, pseudo-likelihood = -128.13, time = 0.08s\n",
      "[BernoulliRBM] Iteration 8, pseudo-likelihood = -128.02, time = 0.07s\n",
      "[BernoulliRBM] Iteration 9, pseudo-likelihood = -127.93, time = 0.07s\n",
      "[BernoulliRBM] Iteration 10, pseudo-likelihood = -127.83, time = 0.09s\n",
      "[BernoulliRBM] Iteration 11, pseudo-likelihood = -127.75, time = 0.07s\n",
      "[BernoulliRBM] Iteration 12, pseudo-likelihood = -127.68, time = 0.07s\n",
      "[BernoulliRBM] Iteration 13, pseudo-likelihood = -127.61, time = 0.08s\n",
      "[BernoulliRBM] Iteration 14, pseudo-likelihood = -127.55, time = 0.07s\n",
      "[BernoulliRBM] Iteration 15, pseudo-likelihood = -127.50, time = 0.07s\n",
      "[BernoulliRBM] Iteration 16, pseudo-likelihood = -127.45, time = 0.09s\n",
      "[BernoulliRBM] Iteration 17, pseudo-likelihood = -127.41, time = 0.07s\n",
      "[BernoulliRBM] Iteration 18, pseudo-likelihood = -127.36, time = 0.07s\n",
      "[BernoulliRBM] Iteration 19, pseudo-likelihood = -127.33, time = 0.08s\n",
      "[BernoulliRBM] Iteration 20, pseudo-likelihood = -127.30, time = 0.07s\n",
      "[BernoulliRBM] Iteration 21, pseudo-likelihood = -127.27, time = 0.07s\n",
      "[BernoulliRBM] Iteration 22, pseudo-likelihood = -127.24, time = 0.09s\n",
      "[BernoulliRBM] Iteration 23, pseudo-likelihood = -127.22, time = 0.08s\n",
      "[BernoulliRBM] Iteration 24, pseudo-likelihood = -127.20, time = 0.07s\n",
      "[BernoulliRBM] Iteration 25, pseudo-likelihood = -127.18, time = 0.09s\n",
      "[BernoulliRBM] Iteration 26, pseudo-likelihood = -127.16, time = 0.07s\n",
      "[BernoulliRBM] Iteration 27, pseudo-likelihood = -127.15, time = 0.08s\n",
      "[BernoulliRBM] Iteration 28, pseudo-likelihood = -127.14, time = 0.09s\n",
      "[BernoulliRBM] Iteration 29, pseudo-likelihood = -127.13, time = 0.07s\n",
      "[BernoulliRBM] Iteration 30, pseudo-likelihood = -127.12, time = 0.07s\n",
      "[BernoulliRBM] Iteration 31, pseudo-likelihood = -127.11, time = 0.09s\n",
      "[BernoulliRBM] Iteration 32, pseudo-likelihood = -127.10, time = 0.07s\n",
      "[BernoulliRBM] Iteration 33, pseudo-likelihood = -127.10, time = 0.07s\n",
      "[BernoulliRBM] Iteration 34, pseudo-likelihood = -127.10, time = 0.09s\n",
      "[BernoulliRBM] Iteration 35, pseudo-likelihood = -127.09, time = 0.07s\n",
      "[BernoulliRBM] Iteration 36, pseudo-likelihood = -127.09, time = 0.08s\n",
      "[BernoulliRBM] Iteration 37, pseudo-likelihood = -127.09, time = 0.08s\n",
      "[BernoulliRBM] Iteration 38, pseudo-likelihood = -127.09, time = 0.07s\n",
      "[BernoulliRBM] Iteration 39, pseudo-likelihood = -127.10, time = 0.07s\n",
      "[BernoulliRBM] Iteration 40, pseudo-likelihood = -127.10, time = 0.08s\n",
      "[BernoulliRBM] Iteration 41, pseudo-likelihood = -127.10, time = 0.08s\n",
      "[BernoulliRBM] Iteration 42, pseudo-likelihood = -127.11, time = 0.08s\n",
      "[BernoulliRBM] Iteration 43, pseudo-likelihood = -127.12, time = 0.08s\n",
      "[BernoulliRBM] Iteration 44, pseudo-likelihood = -127.12, time = 0.07s\n",
      "[BernoulliRBM] Iteration 45, pseudo-likelihood = -127.13, time = 0.07s\n",
      "[BernoulliRBM] Iteration 46, pseudo-likelihood = -127.14, time = 0.09s\n",
      "[BernoulliRBM] Iteration 47, pseudo-likelihood = -127.15, time = 0.07s\n",
      "[BernoulliRBM] Iteration 48, pseudo-likelihood = -127.15, time = 0.07s\n",
      "[BernoulliRBM] Iteration 49, pseudo-likelihood = -127.16, time = 0.14s\n",
      "[BernoulliRBM] Iteration 50, pseudo-likelihood = -127.18, time = 0.12s\n"
     ]
    },
    {
     "data": {
      "text/plain": [
       "Pipeline(steps=[('rbm1',\n",
       "                 BernoulliRBM(batch_size=256, learning_rate=0.001,\n",
       "                              n_components=750, n_iter=50, verbose=2)),\n",
       "                ('rbm2',\n",
       "                 BernoulliRBM(batch_size=256, learning_rate=0.001,\n",
       "                              n_components=375, n_iter=50, verbose=2)),\n",
       "                ('rbm3',\n",
       "                 BernoulliRBM(batch_size=256, learning_rate=0.001,\n",
       "                              n_components=187, n_iter=50, verbose=2)),\n",
       "                ('rbm4',\n",
       "                 BernoulliRBM(batch_size=256, learning_rate=0.001,\n",
       "                              n_components=125, n_iter=50, verbose=1))])"
      ]
     },
     "execution_count": 4,
     "metadata": {},
     "output_type": "execute_result"
    }
   ],
   "source": [
    "# --------------------------------------------------------------------------------\n",
    "# set hyperparameters\n",
    "\n",
    "learning_rate = 0.001\n",
    "total_units   =  750 \n",
    "total_epochs  =   50 \n",
    "batch_size    =  256 \n",
    "\n",
    "# --------------------------------------------------------------------------------\n",
    "# construct models\n",
    "\n",
    "# RBM\n",
    "rbm1 = BernoulliRBM(n_components=total_units, learning_rate=learning_rate, batch_size=batch_size, n_iter=total_epochs, verbose=2)\n",
    "rbm2 = BernoulliRBM(n_components=int(total_units/2), learning_rate=learning_rate, batch_size=batch_size, n_iter=total_epochs, verbose=2)\n",
    "rbm3 = BernoulliRBM(n_components=int(total_units/4), learning_rate=learning_rate, batch_size=batch_size, n_iter=total_epochs, verbose=2)\n",
    "rbm4 = BernoulliRBM(n_components=int(total_units/6), learning_rate=learning_rate, batch_size=batch_size, n_iter=total_epochs, verbose=1)\n",
    "\n",
    "\n",
    "models = []                       \n",
    "model = Pipeline(steps=[('rbm1', clone(rbm1)), ('rbm2', clone(rbm2)),('rbm3', clone(rbm3)),('rbm4', clone(rbm4))])  # RBM stack / DBN\n",
    "# --------------------------------------------------------------------------------\n",
    "# train and evaluate models\n",
    "\n",
    "model.fit(X_train)\n",
    "\n"
   ]
  },
  {
   "cell_type": "code",
   "execution_count": 7,
   "metadata": {},
   "outputs": [
    {
     "data": {
      "text/plain": [
       "0.24576999996331012"
      ]
     },
     "execution_count": 7,
     "metadata": {},
     "output_type": "execute_result"
    }
   ],
   "source": [
    "hidden_features = model.transform(X_train)\n",
    "# Initialize the reconstructed data with the hidden features\n",
    "reconstructed_data = hidden_features\n",
    "\n",
    "# Reconstruct the data from the top RBM to the bottom\n",
    "for rbm in reversed(model.steps):\n",
    "    reconstructed_data = reconstruct_visible(rbm[1], reconstructed_data)\n",
    "    # Flatten the original and reconstructed data if they are in 2D or 3D\n",
    "original_data_flat = X_train.flatten()\n",
    "reconstructed_data_flat = reconstructed_data.flatten()\n",
    "\n",
    "# Compute the reconstruction error for each sample\n",
    "reconstruction_errors = mean_squared_error(original_data_flat, reconstructed_data_flat)\n",
    "\n",
    "reconstruction_errors"
   ]
  },
  {
   "cell_type": "code",
   "execution_count": 29,
   "metadata": {},
   "outputs": [
    {
     "data": {
      "text/plain": [
       "0.24536956787109376"
      ]
     },
     "execution_count": 29,
     "metadata": {},
     "output_type": "execute_result"
    }
   ],
   "source": [
    "hidden_features = model.transform(X_test)\n",
    "# Initialize the reconstructed data with the hidden features\n",
    "reconstructed_data = hidden_features\n",
    "\n",
    "# Reconstruct the data from the top RBM to the bottom\n",
    "for rbm in reversed(model.steps):\n",
    "    reconstructed_data = reconstruct_visible(rbm[1], reconstructed_data)\n",
    "    # Flatten the original and reconstructed data if they are in 2D or 3D\n",
    "original_data_flat = X_test.flatten()\n",
    "reconstructed_data_flat = reconstructed_data.flatten()\n",
    "\n",
    "# Compute the reconstruction error for each sample\n",
    "reconstruction_errors = mean_squared_error(original_data_flat, reconstructed_data_flat)\n",
    "\n",
    "reconstruction_errors"
   ]
  },
  {
   "cell_type": "code",
   "execution_count": 33,
   "metadata": {},
   "outputs": [
    {
     "data": {
      "text/plain": [
       "<matplotlib.image.AxesImage at 0x7f8b5ecd89b0>"
      ]
     },
     "execution_count": 33,
     "metadata": {},
     "output_type": "execute_result"
    },
    {
     "data": {
      "image/png": "[encoded data removed]",
      "text/plain": [
       "<Figure size 432x288 with 1 Axes>"
      ]
     },
     "metadata": {
      "needs_background": "light"
     },
     "output_type": "display_data"
    }
   ],
   "source": [
    "import matplotlib.pyplot as plt\n",
    "\n",
    "plt.imshow(X_test[2].reshape(8,8))"
   ]
  },
  {
   "cell_type": "code",
   "execution_count": 32,
   "metadata": {},
   "outputs": [
    {
     "data": {
      "text/plain": [
       "<matplotlib.image.AxesImage at 0x7f8b5f2f9ba8>"
      ]
     },
     "execution_count": 32,
     "metadata": {},
     "output_type": "execute_result"
    },
    {
     "data": {
      "image/png": "[encoded data removed]",
      "text/plain": [
       "<Figure size 432x288 with 1 Axes>"
      ]
     },
     "metadata": {
      "needs_background": "light"
     },
     "output_type": "display_data"
    }
   ],
   "source": [
    "plt.imshow(reconstructed_data[2].reshape(8,8))"
   ]
  },
  {
   "cell_type": "code",
   "execution_count": null,
   "metadata": {},
   "outputs": [],
   "source": [
    "def transform_through_dbn(data, rbms):\n",
    "    for rbm in rbms:\n",
    "        data = rbm.transform(data)\n",
    "    return data\n",
    "    \n",
    "# Extract features using DBN\n",
    "dbn_features = transform_through_dbn(X_train, model)  # Replace with your DBN layers\n",
    "\n",
    "# Initialize and train the classifier\n",
    "classifier = LogisticRegression()\n",
    "classifier.fit(dbn_features, Y_train)\n",
    "\n",
    "predictions = classifier.predict(transform_through_dbn(X_train, model))"
   ]
  },
  {
   "cell_type": "code",
   "execution_count": 29,
   "metadata": {},
   "outputs": [
    {
     "data": {
      "text/plain": [
       "['model.joblib']"
      ]
     },
     "execution_count": 29,
     "metadata": {},
     "output_type": "execute_result"
    }
   ],
   "source": [
    "from joblib import dump\n",
    "\n",
    "dump(model, 'model.joblib')"
   ]
  }
 ],
 "metadata": {
  "kernelspec": {
   "display_name": "Python 3",
   "language": "python",
   "name": "python3"
  },
  "language_info": {
   "codemirror_mode": {
    "name": "ipython",
    "version": 3
   },
   "file_extension": ".py",
   "mimetype": "text/x-python",
   "name": "python",
   "nbconvert_exporter": "python",
   "pygments_lexer": "ipython3",
   "version": "3.7.2"
  },
  "orig_nbformat": 4
 },
 "nbformat": 4,
 "nbformat_minor": 2
}
