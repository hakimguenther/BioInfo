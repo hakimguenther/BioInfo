{
 "cells": [
  {
   "cell_type": "code",
   "execution_count": 9,
   "metadata": {},
   "outputs": [],
   "source": [
    "\n",
    "\"\"\"\n",
    "Using MNIST, compare classification performance of:\n",
    "1) logistic regression by itself,\n",
    "2) logistic regression on outputs of an RBM, and\n",
    "3) logistic regression on outputs of a stacks of RBMs / a DBN.\n",
    "\"\"\"\n",
    "\n",
    "import numpy as np\n",
    "import matplotlib.pyplot as plt\n",
    "\n",
    "from sklearn.datasets import load_digits\n",
    "from sklearn.model_selection import train_test_split\n",
    "from sklearn.linear_model import LogisticRegression\n",
    "from sklearn.neural_network import BernoulliRBM\n",
    "from sklearn.base import clone\n",
    "from sklearn.pipeline import Pipeline\n",
    "from sklearn.metrics import classification_report\n"
   ]
  },
  {
   "cell_type": "code",
   "execution_count": 10,
   "metadata": {},
   "outputs": [],
   "source": [
    "def norm(arr):\n",
    "    arr = arr.astype(np.float)\n",
    "    arr -= arr.min()\n",
    "    arr /= arr.max()\n",
    "    return arr"
   ]
  },
  {
   "cell_type": "code",
   "execution_count": 12,
   "metadata": {},
   "outputs": [],
   "source": [
    "# load MNIST data set\n",
    "mnist = load_digits()\n",
    "X, Y = mnist.data, mnist.target\n",
    "\n",
    "# normalize inputs to 0-1 range\n",
    "X = norm(X)\n",
    "\n",
    "# split into train, validation, and test data sets\n",
    "X_train, X_test, Y_train, Y_test = train_test_split(X,       Y,       test_size=200, random_state=0)\n",
    "labels = np.random.binomial(n=1, p=0.5, size=[1000]).reshape(1000,1)\n",
    "data = np.random.rand(1000, 64)\n",
    "data = norm(data)"
   ]
  },
  {
   "cell_type": "code",
   "execution_count": null,
   "metadata": {},
   "outputs": [],
   "source": [
    "# --------------------------------------------------------------------------------\n",
    "# set hyperparameters\n",
    "\n",
    "learning_rate = 0.02 # from Erhan et el. (2010): median value in grid-search\n",
    "total_units   =  800 # from Erhan et el. (2010): optimal for MNIST / only slightly worse than 1200 units when using InfiniteMNIST\n",
    "total_epochs  =   50 # from Erhan et el. (2010): optimal for MNIST\n",
    "batch_size    =  128 # seems like a representative sample; backprop literature often uses 256 or 512 samples\n",
    "\n",
    "C = 100. # optimum for benchmark model according to sklearn docs: https://scikit-learn.org/stable/auto_examples/neural_networks/plot_rbm_logistic_classification.html#sphx-glr-auto-examples-neural-networks-plot-rbm-logistic-classification-py)\n",
    "\n",
    "# TODO optimize using grid search, etc\n",
    "\n",
    "# --------------------------------------------------------------------------------\n",
    "# construct models\n",
    "\n",
    "# RBM\n",
    "rbm1 = BernoulliRBM(n_components=total_units, learning_rate=learning_rate, batch_size=batch_size, n_iter=total_epochs, verbose=1)\n",
    "rbm2 = BernoulliRBM(n_components=int(total_units/2), learning_rate=learning_rate, batch_size=batch_size, n_iter=total_epochs, verbose=1)\n",
    "rbm3 = BernoulliRBM(n_components=int(total_units/4), learning_rate=learning_rate, batch_size=batch_size, n_iter=total_epochs, verbose=1)\n",
    "\n",
    "\n",
    "models = []                       \n",
    "model = Pipeline(steps=[('rbm1', clone(rbm1)), ('rbm2', clone(rbm2)),('rbm3', clone(rbm3))])  # RBM stack / DBN\n",
    "# --------------------------------------------------------------------------------\n",
    "# train and evaluate models\n",
    "\n",
    "model.fit(X_train)\n",
    "\n",
    "def transform_through_dbn(data, rbms):\n",
    "    for rbm in rbms:\n",
    "        data = rbm.transform(data)\n",
    "    return data\n",
    "    \n",
    "# Extract features using DBN\n",
    "dbn_features = transform_through_dbn(X_train, model)  # Replace with your DBN layers\n",
    "\n",
    "# Initialize and train the classifier\n",
    "classifier = LogisticRegression()\n",
    "classifier.fit(dbn_features, Y_train)\n",
    "\n",
    "# Predict and evaluate (assuming you have a test set)\n",
    "predictions = classifier.predict(transform_through_dbn(X_train, model))\n",
    "# Evaluate predictions using appropriate metrics"
   ]
  },
  {
   "cell_type": "code",
   "execution_count": 17,
   "metadata": {},
   "outputs": [
    {
     "data": {
      "text/plain": [
       "['model.joblib']"
      ]
     },
     "execution_count": 17,
     "metadata": {},
     "output_type": "execute_result"
    }
   ],
   "source": [
    "from joblib import dump\n",
    "\n",
    "dump(model, 'model.joblib')"
   ]
  },
  {
   "cell_type": "code",
   "execution_count": null,
   "metadata": {},
   "outputs": [],
   "source": [
    "from joblib import load\n",
    "\n",
    "dbn_pipeline = load('model.joblib')"
   ]
  },
  {
   "cell_type": "code",
   "execution_count": null,
   "metadata": {},
   "outputs": [],
   "source": [
    "indices = [\"0\", \"1\", \"10\", \"11\", \"12\", \"13\"]\n",
    "data_S = []\n",
    "for index in indices:\n",
    "    data = np.load(f\"../../data/data{index}.npy\")\n",
    "    data_S.append(data)\n",
    "\n",
    "# Assuming 'data' is your original (291, 275, 442) array\n",
    "train = []\n",
    "for data in data_S:\n",
    "    new = []\n",
    "    for i in range(442):\n",
    "        # Isolate one channel (for example, the first channel)\n",
    "        channel_data = data[:, :, i]  # Shape will be (291, 275)\n",
    "\n",
    "        # Flatten the channel data\n",
    "        channel_data_flattened = channel_data.reshape(-1)  # Flatten into a vector\n",
    "\n",
    "        # Normalize\n",
    "        scaler = StandardScaler()\n",
    "        channel_data_normalized = scaler.fit_transform(channel_data)\n",
    "        #channel_data_normalized = channel_data_normalized.ravel()\n",
    "        new.append(channel_data_normalized)\n",
    "    train.append(np.array(new).T)"
   ]
  },
  {
   "cell_type": "code",
   "execution_count": null,
   "metadata": {},
   "outputs": [],
   "source": [
    "indices = [\"0\", \"1\", \"10\", \"11\", \"12\", \"13\"]\n",
    "data_S = []\n",
    "for index in indices:\n",
    "    data = np.load(f\"../../data/data{index}.npy\")\n",
    "    data_S.append(data)\n",
    "\n",
    "# Assuming 'data' is your original (291, 275, 442) array\n",
    "train = []\n",
    "\n",
    "new = []\n",
    "for i in range(442):\n",
    "    # Isolate one channel (for example, the first channel)\n",
    "    channel_data = data[:, :, 0]  # Shape will be (291, 275)\n",
    "\n",
    "    # Flatten the channel data\n",
    "    channel_data_flattened = channel_data.reshape(-1)  # Flatten into a vector\n",
    "\n",
    "    # Normalize\n",
    "    scaler = StandardScaler()\n",
    "    channel_data_normalized = scaler.fit_transform(channel_data)\n",
    "    arr = np.array(channel_data_normalized)  # Replace with your array\n",
    "    rows, cols = arr.shape\n",
    "\n",
    "    # Trimming to make square\n",
    "    if rows > cols:\n",
    "        square_arr = arr[:cols, :]\n",
    "    elif cols > rows:\n",
    "        square_arr = arr[:, :rows]\n",
    "\n",
    "    #channel_data_normalized = channel_data_normalized.ravel()\n",
    "    new.append(square_arr)\n",
    "    "
   ]
  }
 ],
 "metadata": {
  "kernelspec": {
   "display_name": "Python 3",
   "language": "python",
   "name": "python3"
  },
  "language_info": {
   "codemirror_mode": {
    "name": "ipython",
    "version": 3
   },
   "file_extension": ".py",
   "mimetype": "text/x-python",
   "name": "python",
   "nbconvert_exporter": "python",
   "pygments_lexer": "ipython3",
   "version": "3.7.2"
  },
  "orig_nbformat": 4
 },
 "nbformat": 4,
 "nbformat_minor": 2
}
