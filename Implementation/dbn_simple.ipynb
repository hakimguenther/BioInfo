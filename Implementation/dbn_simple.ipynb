{
 "cells": [
  {
   "cell_type": "code",
   "execution_count": 1,
   "metadata": {},
   "outputs": [],
   "source": [
    "from sklearn.neural_network import BernoulliRBM\n",
    "import numpy as np"
   ]
  },
  {
   "cell_type": "code",
   "execution_count": 2,
   "metadata": {},
   "outputs": [],
   "source": [
    "# Prepare data\n",
    "data = np.random.rand(100, 64)  # Replace with your data\n",
    "\n",
    "# Initialize RBMs\n",
    "rbm1 = BernoulliRBM(n_components=100, learning_rate=0.01, n_iter=10)\n",
    "rbm2 = BernoulliRBM(n_components=50, learning_rate=0.01, n_iter=10)\n",
    "\n",
    "# Sequential training\n",
    "rbm1.fit(data)\n",
    "rbm2.fit(rbm1.transform(data))\n",
    "\n",
    "# Function to pass data through all layers\n",
    "def transform_through_dbn(data, rbms):\n",
    "    for rbm in rbms:\n",
    "        data = rbm.transform(data)\n",
    "    return data\n",
    "\n",
    "# Use DBN for transformation\n",
    "dbn_features = transform_through_dbn(data, [rbm1, rbm2])"
   ]
  },
  {
   "cell_type": "code",
   "execution_count": null,
   "metadata": {},
   "outputs": [],
   "source": [
    "def norm(arr):\n",
    "    arr = arr.astype(np.float)\n",
    "    arr -= arr.min()\n",
    "    arr /= arr.max()\n",
    "    return arr"
   ]
  },
  {
   "cell_type": "code",
   "execution_count": null,
   "metadata": {},
   "outputs": [],
   "source": [
    "labels = np.random.binomial(n=1, p=0.5, size=[1000]).reshape(1000,1)\n",
    "data = np.random.rand(1000, 64)\n",
    "data = norm(data)"
   ]
  }
 ],
 "metadata": {
  "kernelspec": {
   "display_name": "Python 3",
   "language": "python",
   "name": "python3"
  },
  "language_info": {
   "codemirror_mode": {
    "name": "ipython",
    "version": 3
   },
   "file_extension": ".py",
   "mimetype": "text/x-python",
   "name": "python",
   "nbconvert_exporter": "python",
   "pygments_lexer": "ipython3",
   "version": "3.7.2"
  },
  "orig_nbformat": 4
 },
 "nbformat": 4,
 "nbformat_minor": 2
}
