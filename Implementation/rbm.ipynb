{
 "cells": [
  {
   "cell_type": "code",
   "execution_count": 1,
   "metadata": {},
   "outputs": [],
   "source": [
    "from sklearn.neural_network import BernoulliRBM\n",
    "import numpy as np"
   ]
  },
  {
   "cell_type": "code",
   "execution_count": null,
   "metadata": {},
   "outputs": [],
   "source": [
    "# Example data (replace with your data)\n",
    "data = np.random.rand(100, 64)  # 100 samples, 64 features\n",
    "\n",
    "# Normalize data\n",
    "data_normalized = data / data.max()\n",
    "\n",
    "# Initialize RBM\n",
    "rbm = BernoulliRBM(n_components=100, learning_rate=0.01, n_iter=10)\n",
    "\n",
    "# Fit RBM\n",
    "rbm.fit(data_normalized)\n",
    "\n",
    "# Transform data\n",
    "transformed_data = rbm.transform(data_normalized)\n",
    "\n",
    "rbm.score_samples(data_normalized)"
   ]
  }
 ],
 "metadata": {
  "kernelspec": {
   "display_name": "Python 3",
   "language": "python",
   "name": "python3"
  },
  "language_info": {
   "codemirror_mode": {
    "name": "ipython",
    "version": 3
   },
   "file_extension": ".py",
   "mimetype": "text/x-python",
   "name": "python",
   "nbconvert_exporter": "python",
   "pygments_lexer": "ipython3",
   "version": "3.7.2"
  },
  "orig_nbformat": 4
 },
 "nbformat": 4,
 "nbformat_minor": 2
}
