{
 "cells": [
  {
   "cell_type": "code",
   "execution_count": 1,
   "metadata": {},
   "outputs": [],
   "source": [
    "import numpy as np\n",
    "import random\n",
    "import pandas as pd\n",
    "from sklearn.preprocessing import StandardScaler"
   ]
  },
  {
   "cell_type": "code",
   "execution_count": 2,
   "metadata": {},
   "outputs": [],
   "source": [
    "indices = [\"0\", \"1\", \"10\", \"11\", \"12\", \"13\"]\n",
    "data_S = []\n",
    "for index in indices:\n",
    "    data = np.load(f\"../../data/data{index}.npy\")\n",
    "    data_S.append(data)\n",
    "\n",
    "# Assuming 'data' is your original (291, 275, 442) array\n",
    "train = []\n",
    "for data in data_S:\n",
    "    new = []\n",
    "    for i in range(442):\n",
    "        # Isolate one channel (for example, the first channel)\n",
    "        channel_data = data[:, :, i]  # Shape will be (291, 275)\n",
    "\n",
    "        # Flatten the channel data\n",
    "        channel_data_flattened = channel_data.reshape(-1)  # Flatten into a vector\n",
    "\n",
    "        # Normalize\n",
    "        scaler = StandardScaler()\n",
    "        channel_data_normalized = scaler.fit_transform(channel_data)\n",
    "        #channel_data_normalized = channel_data_normalized.ravel()\n",
    "        new.append(channel_data_normalized)\n",
    "    train.append(np.array(new).T)"
   ]
  },
  {
   "cell_type": "code",
   "execution_count": 3,
   "metadata": {},
   "outputs": [],
   "source": [
    "indices = [\"0\", \"1\", \"10\", \"11\", \"12\", \"13\"]\n",
    "data_S = []\n",
    "for index in indices:\n",
    "    data = np.load(f\"../../data/data{index}.npy\")\n",
    "    data_S.append(data)\n",
    "\n",
    "# Assuming 'data' is your original (291, 275, 442) array\n",
    "train = []\n",
    "\n",
    "new = []\n",
    "for i in range(442):\n",
    "    # Isolate one channel (for example, the first channel)\n",
    "    channel_data = data[:, :, 0]  # Shape will be (291, 275)\n",
    "\n",
    "    # Flatten the channel data\n",
    "    channel_data_flattened = channel_data.reshape(-1)  # Flatten into a vector\n",
    "\n",
    "    # Normalize\n",
    "    scaler = StandardScaler()\n",
    "    channel_data_normalized = scaler.fit_transform(channel_data)\n",
    "    arr = np.array(channel_data_normalized)  # Replace with your array\n",
    "    rows, cols = arr.shape\n",
    "\n",
    "    # Trimming to make square\n",
    "    if rows > cols:\n",
    "        square_arr = arr[:cols, :]\n",
    "    elif cols > rows:\n",
    "        square_arr = arr[:, :rows]\n",
    "\n",
    "    #channel_data_normalized = channel_data_normalized.ravel()\n",
    "    new.append(square_arr)\n",
    "    "
   ]
  },
  {
   "cell_type": "code",
   "execution_count": 4,
   "metadata": {},
   "outputs": [
    {
     "data": {
      "text/plain": [
       "(286, 278, 442)"
      ]
     },
     "execution_count": 4,
     "metadata": {},
     "output_type": "execute_result"
    }
   ],
   "source": [
    "data.shape"
   ]
  },
  {
   "cell_type": "code",
   "execution_count": 5,
   "metadata": {},
   "outputs": [
    {
     "data": {
      "text/plain": [
       "(278, 278, 442)"
      ]
     },
     "execution_count": 5,
     "metadata": {},
     "output_type": "execute_result"
    }
   ],
   "source": [
    "np.array(new).T.shape"
   ]
  },
  {
   "cell_type": "code",
   "execution_count": 6,
   "metadata": {},
   "outputs": [
    {
     "name": "stderr",
     "output_type": "stream",
     "text": [
      "2023-11-13 22:09:20.731805: I tensorflow/core/platform/cpu_feature_guard.cc:193] This TensorFlow binary is optimized with oneAPI Deep Neural Network Library (oneDNN) to use the following CPU instructions in performance-critical operations:  AVX2 FMA\n",
      "To enable them in other operations, rebuild TensorFlow with the appropriate compiler flags.\n",
      "2023-11-13 22:09:20.852301: E tensorflow/stream_executor/cuda/cuda_blas.cc:2981] Unable to register cuBLAS factory: Attempting to register factory for plugin cuBLAS when one has already been registered\n",
      "2023-11-13 22:09:21.269511: W tensorflow/stream_executor/platform/default/dso_loader.cc:64] Could not load dynamic library 'libnvinfer.so.7'; dlerror: libnvinfer.so.7: cannot open shared object file: No such file or directory\n",
      "2023-11-13 22:09:21.269603: W tensorflow/stream_executor/platform/default/dso_loader.cc:64] Could not load dynamic library 'libnvinfer_plugin.so.7'; dlerror: libnvinfer_plugin.so.7: cannot open shared object file: No such file or directory\n",
      "2023-11-13 22:09:21.269609: W tensorflow/compiler/tf2tensorrt/utils/py_utils.cc:38] TF-TRT Warning: Cannot dlopen some TensorRT libraries. If you would like to use Nvidia GPU with TensorRT, please make sure the missing libraries mentioned above are installed properly.\n",
      "2023-11-13 22:09:21.798780: I tensorflow/stream_executor/cuda/cuda_gpu_executor.cc:980] successful NUMA node read from SysFS had negative value (-1), but there must be at least one NUMA node, so returning NUMA node zero\n",
      "2023-11-13 22:09:21.801233: W tensorflow/stream_executor/platform/default/dso_loader.cc:64] Could not load dynamic library 'libcusolver.so.11'; dlerror: libcusolver.so.11: cannot open shared object file: No such file or directory\n",
      "2023-11-13 22:09:21.801634: W tensorflow/stream_executor/platform/default/dso_loader.cc:64] Could not load dynamic library 'libcudnn.so.8'; dlerror: libcudnn.so.8: cannot open shared object file: No such file or directory\n",
      "2023-11-13 22:09:21.801643: W tensorflow/core/common_runtime/gpu/gpu_device.cc:1934] Cannot dlopen some GPU libraries. Please make sure the missing libraries mentioned above are installed properly if you would like to use GPU. Follow the guide at https://www.tensorflow.org/install/gpu for how to download and setup the required libraries for your platform.\n",
      "Skipping registering GPU devices...\n",
      "2023-11-13 22:09:21.801859: I tensorflow/core/platform/cpu_feature_guard.cc:193] This TensorFlow binary is optimized with oneAPI Deep Neural Network Library (oneDNN) to use the following CPU instructions in performance-critical operations:  AVX2 FMA\n",
      "To enable them in other operations, rebuild TensorFlow with the appropriate compiler flags.\n"
     ]
    }
   ],
   "source": [
    "import tensorflow as tf\n",
    "import numpy as np\n",
    "\n",
    "# Example NumPy array\n",
    "numpy_array = new\n",
    "\n",
    "# Convert to a TensorFlow Dataset\n",
    "dataset = tf.data.Dataset.from_tensor_slices(numpy_array)"
   ]
  },
  {
   "cell_type": "code",
   "execution_count": 7,
   "metadata": {},
   "outputs": [],
   "source": [
    "import sys\n",
    "\n",
    "# Add the folder containing your module to the Python path\n",
    "sys.path.append('DBN-TF2-main')"
   ]
  },
  {
   "cell_type": "code",
   "execution_count": 8,
   "metadata": {},
   "outputs": [
    {
     "name": "stderr",
     "output_type": "stream",
     "text": [
      "/home/hakim/anaconda3/envs/ai/lib/python3.8/site-packages/tqdm/auto.py:21: TqdmWarning: IProgress not found. Please update jupyter and ipywidgets. See https://ipywidgets.readthedocs.io/en/stable/user_install.html\n",
      "  from .autonotebook import tqdm as notebook_tqdm\n"
     ]
    }
   ],
   "source": [
    "import tensorflow as tf\n",
    "from dbn import DBN"
   ]
  },
  {
   "cell_type": "code",
   "execution_count": 12,
   "metadata": {},
   "outputs": [
    {
     "data": {
      "text/plain": [
       "<TensorSliceDataset element_spec=TensorSpec(shape=(278, 278), dtype=tf.float32, name=None)>"
      ]
     },
     "execution_count": 12,
     "metadata": {},
     "output_type": "execute_result"
    }
   ],
   "source": [
    "dataset"
   ]
  },
  {
   "cell_type": "code",
   "execution_count": 9,
   "metadata": {},
   "outputs": [
    {
     "name": "stdout",
     "output_type": "stream",
     "text": [
      "\n",
      "[!] Regularizer is OFF because const_reg and/or const_sparse were not set\n",
      "\n",
      "This CRBM have visible Gaussian\n",
      "\n",
      "[!] Regularizer is OFF because const_reg and/or const_sparse were not set\n",
      "\n",
      "This CRBM have visible Binary\n",
      "#### Epoch 1 ####\n"
     ]
    },
    {
     "name": "stderr",
     "output_type": "stream",
     "text": [
      "0it [00:00, ?it/s]\n"
     ]
    },
    {
     "ename": "AttributeError",
     "evalue": "'RBMConv' object has no attribute 'v_shape'",
     "output_type": "error",
     "traceback": [
      "\u001b[0;31m---------------------------------------------------------------------------\u001b[0m",
      "\u001b[0;31mAttributeError\u001b[0m                            Traceback (most recent call last)",
      "\u001b[1;32m/home/hakim/sciebo2/Uni/Semester 2/BioInfo/DBN-TF2-main/DBN/a.ipynb Cell 10\u001b[0m in \u001b[0;36m<cell line: 13>\u001b[0;34m()\u001b[0m\n\u001b[1;32m     <a href='vscode-notebook-cell:/home/hakim/sciebo2/Uni/Semester%202/BioInfo/DBN-TF2-main/DBN/a.ipynb#W5sZmlsZQ%3D%3D?line=9'>10</a>\u001b[0m dbn1 \u001b[39m=\u001b[39m DBN(in_size, k_size, n_filters, \u001b[39m2\u001b[39m)\n\u001b[1;32m     <a href='vscode-notebook-cell:/home/hakim/sciebo2/Uni/Semester%202/BioInfo/DBN-TF2-main/DBN/a.ipynb#W5sZmlsZQ%3D%3D?line=11'>12</a>\u001b[0m \u001b[39m# Train autoencoder\u001b[39;00m\n\u001b[0;32m---> <a href='vscode-notebook-cell:/home/hakim/sciebo2/Uni/Semester%202/BioInfo/DBN-TF2-main/DBN/a.ipynb#W5sZmlsZQ%3D%3D?line=12'>13</a>\u001b[0m dbn1\u001b[39m.\u001b[39;49mfit(dataset)\n\u001b[1;32m     <a href='vscode-notebook-cell:/home/hakim/sciebo2/Uni/Semester%202/BioInfo/DBN-TF2-main/DBN/a.ipynb#W5sZmlsZQ%3D%3D?line=14'>15</a>\u001b[0m \u001b[39m# Get new reconstructed images\u001b[39;00m\n\u001b[1;32m     <a href='vscode-notebook-cell:/home/hakim/sciebo2/Uni/Semester%202/BioInfo/DBN-TF2-main/DBN/a.ipynb#W5sZmlsZQ%3D%3D?line=15'>16</a>\u001b[0m recon_train \u001b[39m=\u001b[39m dbn1\u001b[39m.\u001b[39mreconstruct(dataset)\n",
      "File \u001b[0;32m~/sciebo2/Uni/Semester 2/BioInfo/DBN-TF2-main/DBN/dbn.py:76\u001b[0m, in \u001b[0;36mDBN.fit\u001b[0;34m(self, inputs)\u001b[0m\n\u001b[1;32m     74\u001b[0m \u001b[39mfor\u001b[39;00m rbm \u001b[39min\u001b[39;00m [\u001b[39mself\u001b[39m\u001b[39m.\u001b[39mreal_latent, \u001b[39mself\u001b[39m\u001b[39m.\u001b[39mbin_latent]:\n\u001b[1;32m     75\u001b[0m     \u001b[39mfor\u001b[39;00m i, batch \u001b[39min\u001b[39;00m tqdm(\u001b[39menumerate\u001b[39m(inputs)):\n\u001b[0;32m---> 76\u001b[0m         rbm\u001b[39m.\u001b[39;49mfit(batch)\n\u001b[1;32m     78\u001b[0m     \u001b[39m# Get inputs (h) for the next RBM\u001b[39;00m\n\u001b[1;32m     79\u001b[0m     inputs \u001b[39m=\u001b[39m (\n\u001b[1;32m     80\u001b[0m         inputs\u001b[39m.\u001b[39mmap(\n\u001b[1;32m     81\u001b[0m             \u001b[39mlambda\u001b[39;00m x: rbm(x), num_parallel_calls\u001b[39m=\u001b[39mtf\u001b[39m.\u001b[39mdata\u001b[39m.\u001b[39mAUTOTUNE\n\u001b[0;32m   (...)\u001b[0m\n\u001b[1;32m     84\u001b[0m         \u001b[39m.\u001b[39mprefetch(tf\u001b[39m.\u001b[39mdata\u001b[39m.\u001b[39mAUTOTUNE)\n\u001b[1;32m     85\u001b[0m     )\n",
      "File \u001b[0;32m~/sciebo2/Uni/Semester 2/BioInfo/DBN-TF2-main/DBN/crbm.py:177\u001b[0m, in \u001b[0;36mRBMConv.fit\u001b[0;34m(self, inputs)\u001b[0m\n\u001b[1;32m    174\u001b[0m \u001b[39mdef\u001b[39;00m \u001b[39mfit\u001b[39m(\u001b[39mself\u001b[39m, inputs):\n\u001b[1;32m    175\u001b[0m \n\u001b[1;32m    176\u001b[0m     \u001b[39m# If shapes doesn't match (batch dim doesn't count), program should stop\u001b[39;00m\n\u001b[0;32m--> 177\u001b[0m     check_shape(tf\u001b[39m.\u001b[39mshape(inputs)[\u001b[39m1\u001b[39m:], \u001b[39mself\u001b[39;49m\u001b[39m.\u001b[39;49mv_shape[\u001b[39m1\u001b[39m:])\n\u001b[1;32m    179\u001b[0m     \u001b[39m# Save to update batch dim only\u001b[39;00m\n\u001b[1;32m    180\u001b[0m     \u001b[39mself\u001b[39m\u001b[39m.\u001b[39mv_shape \u001b[39m=\u001b[39m tf\u001b[39m.\u001b[39mshape(inputs)\n",
      "\u001b[0;31mAttributeError\u001b[0m: 'RBMConv' object has no attribute 'v_shape'"
     ]
    }
   ],
   "source": [
    "# Input original size\n",
    "in_size = (278,278,1)\n",
    "\n",
    "# Kernel and filter size for RBMs\n",
    "k_size = 5\n",
    "n_filters = 500\n",
    "\n",
    "\n",
    "# Create autoencoder\n",
    "dbn1 = DBN(in_size, k_size, n_filters, 2)\n",
    "\n",
    "# Train autoencoder\n",
    "dbn1.fit(dataset)\n",
    "\n",
    "# Get new reconstructed images\n",
    "recon_train = dbn1.reconstruct(dataset)\n",
    "# recon_val = dbn.reconstruct(img_val)"
   ]
  },
  {
   "cell_type": "code",
   "execution_count": null,
   "metadata": {},
   "outputs": [],
   "source": [
    "abs(recon_train - train)"
   ]
  }
 ],
 "metadata": {
  "kernelspec": {
   "display_name": "Python 3",
   "language": "python",
   "name": "python3"
  },
  "language_info": {
   "codemirror_mode": {
    "name": "ipython",
    "version": 3
   },
   "file_extension": ".py",
   "mimetype": "text/x-python",
   "name": "python",
   "nbconvert_exporter": "python",
   "pygments_lexer": "ipython3",
   "version": "3.8.13"
  },
  "orig_nbformat": 4
 },
 "nbformat": 4,
 "nbformat_minor": 2
}
